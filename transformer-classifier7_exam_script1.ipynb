{
 "cells": [
  {
   "cell_type": "markdown",
   "metadata": {},
   "source": [
    "## 시험 스크립트 1 : 모델 훈련 및 Precision & Recall 값 구하기를 10번 반복하고 그 평균값을 구함"
   ]
  },
  {
   "cell_type": "markdown",
   "metadata": {},
   "source": [
    "# Multi-Class Classification with Transformer Encoder"
   ]
  },
  {
   "cell_type": "markdown",
   "metadata": {},
   "source": [
    "## 1. Loading helper modules & functions"
   ]
  },
  {
   "cell_type": "code",
   "execution_count": 1,
   "metadata": {},
   "outputs": [
    {
     "name": "stdout",
     "output_type": "stream",
     "text": [
      "Pytorch version: 1.12.1 CUDA version: 11.3 cuDNN version: 8302\n",
      "device: cuda NVIDIA RTX A6000 , device2: cuda:1 NVIDIA RTX A6000\n"
     ]
    }
   ],
   "source": [
    "%load_ext autoreload\n",
    "%autoreload 2\n",
    "import torch as T\n",
    "import torch.nn as nn\n",
    "import pandas as pd\n",
    "import numpy as np\n",
    "import h5py\n",
    "import matplotlib.pyplot as plt\n",
    "%matplotlib inline\n",
    "import seaborn as sns\n",
    "import torchinfo\n",
    "import os\n",
    "# os.environ[\"CUDA_DEVICE_ORDER\"]=\"PCI_BUS_ID\"  # Arrange GPU devices starting from 0\n",
    "# os.environ[\"CUDA_VISIBLE_DEVICES\"]= \"0,1\"  # Set the GPU 2 to use\n",
    "device = T.device(\"cuda\" if T.cuda.is_available() else \"cpu\")\n",
    "device2 = T.device(\"cuda:1\" if T.cuda.is_available() else \"cpu\")\n",
    "# device = T.device(\"cpu\")\n",
    "# from encoding.parallel import DataParallelModel, DataParallelCriterion\n",
    "from torchmetrics import MetricCollection\n",
    "from torchmetrics.classification import MulticlassAccuracy, MulticlassPrecision, MulticlassRecall, MulticlassF1Score, MulticlassConfusionMatrix\n",
    "metric_collection = MetricCollection([\n",
    "    # MulticlassAccuracy(num_classes=4, average=\"none\").to(device),\n",
    "    MulticlassPrecision(num_classes=4, average=\"none\").to(device),\n",
    "    MulticlassRecall(num_classes=4, average=\"none\").to(device),\n",
    "    MulticlassF1Score(num_classes=4, average=\"none\").to(device),\n",
    "])\n",
    "metric_collection_weighted = MetricCollection([\n",
    "    # MulticlassAccuracy(num_classes=4, average=\"weighted\").to(device),\n",
    "    MulticlassPrecision(num_classes=4, average=\"weighted\").to(device),\n",
    "    MulticlassRecall(num_classes=4, average=\"weighted\").to(device),\n",
    "    MulticlassF1Score(num_classes=4, average=\"weighted\").to(device),\n",
    "])\n",
    "import sklearn.datasets\n",
    "from sklearn.model_selection import train_test_split\n",
    "# import umap\n",
    "# import umap.plot\n",
    "import shap\n",
    "import scipy as sp\n",
    "# import transformers\n",
    "print(\"Pytorch version:\", T.__version__, \"CUDA version:\", T.version.cuda, \"cuDNN version:\", T.backends.cudnn.version())\n",
    "print(\"device:\", device, T.cuda.get_device_name(0), \", device2:\", device2, T.cuda.get_device_name(1))"
   ]
  },
  {
   "cell_type": "markdown",
   "metadata": {},
   "source": [
    "## 2. Implementing backbone of Transformer-based Classifier"
   ]
  },
  {
   "cell_type": "code",
   "execution_count": 2,
   "metadata": {},
   "outputs": [
    {
     "name": "stdout",
     "output_type": "stream",
     "text": [
      "X.shape : (407, 1461) , X.dtype : float64\n",
      "Y.shape : (407,)      , Y.dtype : int8\n",
      "\n",
      "The number of feature : 1461\n"
     ]
    }
   ],
   "source": [
    "# feature 개수 확인 및 설정\n",
    "hf = h5py.File('STAD_Dataset3_ALL_exam.h5', 'r')\n",
    "X = np.array(hf.get('X'))\n",
    "Y = np.array(hf.get('Y'))\n",
    "print('X.shape :', X.shape, ', X.dtype :', X.dtype)\n",
    "print('Y.shape :', Y.shape, '     , Y.dtype :', Y.dtype)\n",
    "hf.close()\n",
    "\n",
    "n_feature = X.shape[1]\n",
    "print(\"\\nThe number of feature :\", n_feature)"
   ]
  },
  {
   "cell_type": "code",
   "execution_count": 3,
   "metadata": {},
   "outputs": [],
   "source": [
    "class STAD_Dataset(T.utils.data.Dataset):\n",
    "    def __init__(self, src_file):\n",
    "        hf = h5py.File(src_file, 'r')\n",
    "        if 'X_Train' in hf.keys() :\n",
    "            # X = np.array(hf.get('X_Train')).astype('int64')\n",
    "            X = np.array(hf.get('X_Train'))\n",
    "            Y = np.array(hf.get('Y_Train')).astype('int8')\n",
    "        else :\n",
    "            # X = np.array(hf.get('X_Test')).astype('int64')\n",
    "            X = np.array(hf.get('X_Test'))\n",
    "            Y = np.array(hf.get('Y_Test')).astype('int8')\n",
    "        hf.close()\n",
    "\n",
    "        # self.x_data = T.tensor(X, dtype=T.int64).to(device)\n",
    "        self.x_data = T.tensor(X, dtype=T.float32).to(device)\n",
    "        self.y_data = T.tensor(Y, dtype=T.int64).to(device)  \n",
    "\n",
    "    def __len__(self):\n",
    "        return len(self.x_data)\n",
    "\n",
    "    def __getitem__(self, idx):\n",
    "        x = self.x_data[idx]\n",
    "        y = self.y_data[idx] \n",
    "        return x, y  "
   ]
  },
  {
   "cell_type": "code",
   "execution_count": 4,
   "metadata": {},
   "outputs": [],
   "source": [
    "class PositionalEncoding(T.nn.Module):  \n",
    "    def __init__(self, d_model: int, dropout: float=0.1, max_len: int=n_feature):\n",
    "        super(PositionalEncoding, self).__init__()  \n",
    "        self.dropout = T.nn.Dropout(p=dropout)\n",
    "        pe = T.zeros(max_len, d_model)  \n",
    "        position = T.arange(0, max_len, dtype=T.float32).unsqueeze(1)\n",
    "        div_term = T.exp(T.arange(0, d_model, 2).float() * (-np.log(10_000.0) / d_model))\n",
    "        pe[:, 0::2] = T.sin(position * div_term)\n",
    "        pe[:, 1::2] = T.cos(position * div_term)\n",
    "        pe = pe.unsqueeze(0).transpose(0, 1)\n",
    "        self.register_buffer('pe', pe)  # 이게 없으면 나중에 forward 에서 pe값을 못 찾아 에러남\n",
    "\n",
    "    def forward(self, x):\n",
    "        x = x + self.pe[:x.size(0), :]\n",
    "        return self.dropout(x)"
   ]
  },
  {
   "cell_type": "code",
   "execution_count": 5,
   "metadata": {},
   "outputs": [],
   "source": [
    "# E = number of cases that all features can express in integer (feature=token) \n",
    "# D = #Embedding Dimension ; I = #input features ; F = #fc1 layer hidden nodes ; drop = dropout rate\n",
    "E = 320 ; D = 8 ; I = n_feature ; F = 8 ; drop = 0.1\n",
    "class Transformer_Classifier(T.nn.Module):  # 1501 -> 12008 -> Transformer -> FC -> 4\n",
    "    def __init__(self):\n",
    "        super(Transformer_Classifier, self).__init__() \n",
    "        # numeric pseudo-embedding, dim=D\n",
    "        # self.embed = Special_Embedding_Layer(I, I*D)  # I input features, each goes to D \n",
    "        self.embed = T.nn.Embedding(E, D)  # I input features, each goes to D\n",
    "        self.pos_enc = PositionalEncoding(D, dropout=drop)  # positional embedding\n",
    "        self.enc_layer = T.nn.TransformerEncoderLayer(d_model=D, nhead=4, dim_feedforward=D, \n",
    "                         dropout=drop, batch_first=True)  # d_model should be divisible by nhead\n",
    "        self.trans_enc = T.nn.TransformerEncoder(self.enc_layer, num_layers=3)  # default 6 layers \n",
    "        # STAD Dataset has I input features per each sample\n",
    "        self.dropout = nn.Dropout(drop)\n",
    "        # self.fc1 = T.nn.Linear(D*I, F)  # F hidden nodes\n",
    "        # self.fc2 = T.nn.Linear(F, 4)    # 4 classes\n",
    "        self.fc3 = T.nn.Linear(D*I, 4)    # 4 classes (GX, G1, G2, G3)\n",
    "\n",
    "    def forward(self, x):\n",
    "        # x = I input features, fixed length\n",
    "        z = self.embed(x.int())  # I inputs to I*D embeds\n",
    "        z = z.reshape(-1, I, D) \n",
    "        z = self.pos_enc(z) \n",
    "        z = self.trans_enc(z) \n",
    "        z = z.reshape(-1, D*I)  # torch.Size([batch_size, D*I])\n",
    "        # z = self.dropout(z)\n",
    "        # z = self.fc1(z)\n",
    "        # z = T.tanh(z)\n",
    "        z = self.dropout(z)\n",
    "        z = self.fc3(z)\n",
    "        z = T.log_softmax(z, dim=1)  # later followed by NLL Loss()\n",
    "        return z\n",
    "max_F1 = 0"
   ]
  },
  {
   "cell_type": "code",
   "execution_count": 6,
   "metadata": {},
   "outputs": [
    {
     "data": {
      "text/plain": [
       "==========================================================================================================================================================================\n",
       "Layer (type:depth-idx)                        Input Shape               Output Shape              Param #                   Param %                   Trainable\n",
       "==========================================================================================================================================================================\n",
       "Transformer_Classifier                        [1, 1461]                 [1, 4]                    464                         0.91%                   True\n",
       "├─Embedding: 1-1                              [1, 1461]                 [1, 1461, 8]              2,560                       5.00%                   True\n",
       "├─PositionalEncoding: 1-2                     [1, 1461, 8]              [1, 1461, 8]              --                             --                   --\n",
       "│    └─Dropout: 2-1                           [1, 1461, 8]              [1, 1461, 8]              --                             --                   --\n",
       "├─TransformerEncoder: 1-3                     [1, 1461, 8]              [1, 1461, 8]              --                             --                   True\n",
       "│    └─ModuleList: 2-2                        --                        --                        --                             --                   True\n",
       "│    │    └─TransformerEncoderLayer: 3-1      [1, 1461, 8]              [1, 1461, 8]              464                         0.91%                   True\n",
       "│    │    └─TransformerEncoderLayer: 3-2      [1, 1461, 8]              [1, 1461, 8]              464                         0.91%                   True\n",
       "│    │    └─TransformerEncoderLayer: 3-3      [1, 1461, 8]              [1, 1461, 8]              464                         0.91%                   True\n",
       "├─Dropout: 1-4                                [1, 11688]                [1, 11688]                --                             --                   --\n",
       "├─Linear: 1-5                                 [1, 11688]                [1, 4]                    46,756                     91.37%                   True\n",
       "==========================================================================================================================================================================\n",
       "Total params: 51,172\n",
       "Trainable params: 51,172\n",
       "Non-trainable params: 0\n",
       "Total mult-adds (M): 0.05\n",
       "==========================================================================================================================================================================\n",
       "Input size (MB): 0.01\n",
       "Forward/backward pass size (MB): 0.09\n",
       "Params size (MB): 0.20\n",
       "Estimated Total Size (MB): 0.30\n",
       "=========================================================================================================================================================================="
      ]
     },
     "execution_count": 6,
     "metadata": {},
     "output_type": "execute_result"
    }
   ],
   "source": [
    "net = Transformer_Classifier().to(device)\n",
    "batchsize = 1\n",
    "torchinfo.summary(net, input_size=(batchsize, n_feature),  dtypes=[T.long],\n",
    "col_names=[\"input_size\",\"output_size\",\"num_params\",\"params_percent\",\"trainable\"])"
   ]
  },
  {
   "cell_type": "markdown",
   "metadata": {},
   "source": [
    "## 3. Training model"
   ]
  },
  {
   "cell_type": "markdown",
   "metadata": {},
   "source": [
    "### 3-0. Data Random Splitting"
   ]
  },
  {
   "cell_type": "code",
   "execution_count": 7,
   "metadata": {},
   "outputs": [
    {
     "name": "stdout",
     "output_type": "stream",
     "text": [
      "X_Train.shape :  (325, 1461)\n",
      "Y_Train.shape :  (325,)\n",
      "X_Test.shape  :  (82, 1461)\n",
      "Y_Test.shape  :  (82,)\n"
     ]
    },
    {
     "data": {
      "text/plain": [
       "('Y_Test',\n",
       " array([3, 2, 2, 2, 2, 2, 2, 3, 3, 3, 3, 3, 3, 0, 2, 0, 3, 3, 2, 2, 3, 2,\n",
       "        2, 3, 3, 2, 2, 3, 3, 2, 2, 3, 2, 2, 3, 2, 3, 3, 1, 3, 2, 3, 3, 2,\n",
       "        2, 2, 3, 2, 2, 2, 2, 3, 2, 3, 3, 3, 3, 3, 2, 2, 3, 2, 3, 3, 3, 3,\n",
       "        3, 3, 3, 3, 3, 3, 3, 3, 3, 3, 3, 3, 3, 3, 3, 1], dtype=int8))"
      ]
     },
     "execution_count": 7,
     "metadata": {},
     "output_type": "execute_result"
    }
   ],
   "source": [
    "# 1. Train : Test 를 레이블 비율을 균등하게 유지하면서 8 : 2로 랜덤하게 나눔\n",
    "X_Train, X_Test, Y_Train, Y_Test = train_test_split(X, Y, test_size=0.2, stratify=Y)\n",
    "\n",
    "# 2. Train 데이터 파일로 저장\n",
    "hf = h5py.File('STAD_Dataset3_Train_exam.h5', 'w')\n",
    "hf.create_dataset('X_Train', data=X_Train)\n",
    "hf.create_dataset('Y_Train', data=Y_Train)\n",
    "hf.close()\n",
    "# 3. Test 데이터 파일로 저장 \n",
    "hf = h5py.File('STAD_Dataset3_Test_exam.h5', 'w')\n",
    "hf.create_dataset('X_Test', data=X_Test)\n",
    "hf.create_dataset('Y_Test', data=Y_Test)\n",
    "hf.close()\n",
    "\n",
    "print('X_Train.shape : ', X_Train.shape)\n",
    "print('Y_Train.shape : ', Y_Train.shape)\n",
    "print('X_Test.shape  : ', X_Test.shape)\n",
    "print('Y_Test.shape  : ', Y_Test.shape)\n",
    "\"Y_Test\", Y_Test # 매번 랜덤으로 들어가는 지 확인"
   ]
  },
  {
   "cell_type": "markdown",
   "metadata": {},
   "source": [
    "### 3-1. Lodaing Dataset"
   ]
  },
  {
   "cell_type": "code",
   "execution_count": 8,
   "metadata": {},
   "outputs": [
    {
     "name": "stdout",
     "output_type": "stream",
     "text": [
      "Making tensor dataset of STAD samples on device cuda NVIDIA RTX A6000\n",
      "  325 training dataset created from an h5 file\n",
      "  82 test dataset created from an h5 file\n",
      "  Dataloader for training prepared with batch_size 8\n"
     ]
    }
   ],
   "source": [
    "# 0. setup\n",
    "print(\"Making tensor dataset of STAD samples on device\", device, T.cuda.get_device_name(0))\n",
    "np.random.seed(1)  \n",
    "T.manual_seed(1)  \n",
    "\n",
    "# 1. create Dataset\n",
    "train_file = \"./STAD_Dataset3_Train_exam.h5\"\n",
    "train_ds = STAD_Dataset(train_file)\n",
    "print(\" \", len(train_ds), \"training dataset created from an h5 file\")\n",
    "\n",
    "test_file = \"./STAD_Dataset3_Test_exam.h5\"\n",
    "test_ds = STAD_Dataset(test_file)\n",
    "print(\" \", len(test_ds), \"test dataset created from an h5 file\")\n",
    "\n",
    "bat_size = 8\n",
    "train_ldr = T.utils.data.DataLoader(train_ds, batch_size=bat_size, shuffle=True)\n",
    "print(\"  Dataloader for training prepared with batch_size\", bat_size)\n",
    "# test_ldr = T.utils.data.DataLoader(test_ds, batch_size=2, shuffle=False)"
   ]
  },
  {
   "cell_type": "markdown",
   "metadata": {},
   "source": [
    "### 3-2. Training model"
   ]
  },
  {
   "cell_type": "code",
   "execution_count": 9,
   "metadata": {},
   "outputs": [
    {
     "name": "stdout",
     "output_type": "stream",
     "text": [
      "Creating Transformer network...\n",
      "Preparation for model training complete.\n",
      "\n",
      "bat_size =   8 \n",
      "loss = NLLLoss()\n",
      "optimizer =  Adam (\n",
      "Parameter Group 0\n",
      "    amsgrad: False\n",
      "    betas: (0.9, 0.999)\n",
      "    capturable: False\n",
      "    eps: 1e-08\n",
      "    foreach: None\n",
      "    initial_lr: 0.0001\n",
      "    lr: 0.0001\n",
      "    maximize: False\n",
      "    weight_decay: 0.1\n",
      ")\n",
      "max_epochs =  18 \n",
      "\n",
      "Starting training\n",
      "epoch =    1  |  loss =   5.1688  |  lr = 0.00010000\n",
      "epoch =    2  |  loss =   4.2288  |  lr = 0.00009900\n",
      "epoch =    3  |  loss =   3.6022  |  lr = 0.00009801\n",
      "epoch =    4  |  loss =   3.3043  |  lr = 0.00009703\n",
      "epoch =    5  |  loss =   2.4920  |  lr = 0.00009606\n",
      "epoch =    6  |  loss =   2.1893  |  lr = 0.00009510\n",
      "epoch =    7  |  loss =   1.8934  |  lr = 0.00009415\n",
      "epoch =    8  |  loss =   1.5481  |  lr = 0.00009321\n",
      "epoch =    9  |  loss =   1.2567  |  lr = 0.00009227\n",
      "epoch =   10  |  loss =   1.0944  |  lr = 0.00009135\n",
      "epoch =   11  |  loss =   0.9761  |  lr = 0.00009044\n",
      "epoch =   12  |  loss =   0.8818  |  lr = 0.00008953\n",
      "epoch =   13  |  loss =   0.7874  |  lr = 0.00008864\n",
      "epoch =   14  |  loss =   0.6378  |  lr = 0.00008775\n",
      "epoch =   15  |  loss =   0.6098  |  lr = 0.00008687\n",
      "epoch =   16  |  loss =   0.5476  |  lr = 0.00008601\n",
      "epoch =   17  |  loss =   0.5313  |  lr = 0.00008515\n",
      "epoch =   18  |  loss =   0.4622  |  lr = 0.00008429\n",
      "Done \n"
     ]
    },
    {
     "data": {
      "text/plain": [
       "[<matplotlib.lines.Line2D at 0x7feedafa46a0>]"
      ]
     },
     "execution_count": 9,
     "metadata": {},
     "output_type": "execute_result"
    },
    {
     "data": {
      "image/png": "[encoded data removed]",
      "text/plain": [
       "<Figure size 600x300 with 2 Axes>"
      ]
     },
     "metadata": {},
     "output_type": "display_data"
    }
   ],
   "source": [
    "print(\"Creating Transformer network...\")\n",
    "# net = Transformer_Classifier().to(device)\n",
    "net = nn.DataParallel(Transformer_Classifier()).to(device)\n",
    "# net = DataParallelModel(Transformer_Classifier()).to(device) # for Multi-GPU \n",
    "# net.double() # 모델 내 데이터들을 전체적으로 float32에서 float64로 만들어 줌. 대신 훈련시간 6배 더 걸림.\n",
    "# net.half() # float16으로 만들어 주어서 정말 GPU가 반만 드는데 loss가 줄어들지 않는 경우가 다반사\n",
    "print(\"Preparation for model training complete.\")\n",
    "\n",
    "max_epochs = 18\n",
    "ep_log_interval = 1\n",
    "lrn_rate = 0.0001\n",
    "\n",
    "loss_func = T.nn.NLLLoss()  # assumes log-softmax()\n",
    "# loss_func = DataParallelCriterion(T.nn.NLLLoss())  # assumes log-softmax()\n",
    "# optimizer = T.optim.SGD(net.parameters(), lr=lrn_rate)\n",
    "optimizer = T.optim.Adam(net.parameters(), lr=lrn_rate, weight_decay=0.1)\n",
    "scheduler = T.optim.lr_scheduler.LambdaLR(optimizer=optimizer, lr_lambda=lambda epoch: 0.99 ** epoch, last_epoch=-1, verbose=False)\n",
    "\n",
    "print(\"\\nbat_size = %3d \" % bat_size)\n",
    "print(\"loss = \" + str(loss_func))\n",
    "print(\"optimizer = \", optimizer)\n",
    "# print(\"lrn_rate = %0.5f \" % lrn_rate)\n",
    "print(\"max_epochs = %3d \" % max_epochs)\n",
    "\n",
    "print(\"\\nStarting training\")\n",
    "net.train()  # set mode\n",
    "\n",
    "loss_list = []\n",
    "accuracy_list = []\n",
    "test_accuracy_list = []\n",
    "for epoch in range(0, max_epochs):\n",
    "    ep_loss = 0.0  # for one full epoch\n",
    "    for (batch_idx, batch) in enumerate(train_ldr):\n",
    "        (X, y) = batch  # X = pixels, y = target labels\n",
    "        optimizer.zero_grad()\n",
    "        # with T.autocast(device_type=\"cuda\"): # for auto-mixed precision\n",
    "        oupt = net(X)\n",
    "        loss_val = loss_func(oupt, y)  # a tensor\n",
    "        # loss_val = loss_func(oupt, (y[0:5], y[5:10].to(device2)))  # a tuple tensor for DataParallelCriterion\n",
    "        ep_loss += loss_val.item()  # accumulate\n",
    "        loss_val.backward()  # compute grads\n",
    "        optimizer.step()     # update weights\n",
    "    if epoch % ep_log_interval == 0:\n",
    "        print(\"epoch = %4d  |  loss = %8.4f  |  lr = %8.8f\" % (epoch+1, ep_loss/bat_size, optimizer.param_groups[0]['lr']))\n",
    "        # net.eval()\n",
    "    scheduler.step()\n",
    "\n",
    "    # train loss & accuracy 그래프를 그리기 위한 코드\n",
    "    with T.no_grad(): \n",
    "        total = 0\n",
    "        correct=0\n",
    "        for X, Y in train_ldr:\n",
    "            outputs = net(X)\n",
    "            _,predict = T.max(outputs.data, 1)\n",
    "            total += Y.size(0)\n",
    "            correct += (predict==Y).sum()\n",
    "    avg_cost = ep_loss / bat_size\n",
    "    accuracy = 100 * correct / total\n",
    "    loss_list.append(avg_cost)\n",
    "    accuracy_list.append(accuracy.cpu().numpy())\n",
    "\n",
    "print(\"Done \") \n",
    "\n",
    "# 훈련과정 전반에 걸친 Loss & Accuracy 그래프\n",
    "epochs = np.arange(1, max_epochs+1)\n",
    "plt.figure(figsize=(6,3))\n",
    "plt.subplot(1,2,1)\n",
    "plt.xlabel('Epoch')\n",
    "plt.ylabel('Loss')\n",
    "plt.plot(epochs, loss_list)\n",
    "plt.subplot(1,2,2)\n",
    "plt.xlabel('Epoch')\n",
    "plt.ylabel('Train Accuracy')\n",
    "plt.plot(epochs, accuracy_list)"
   ]
  },
  {
   "cell_type": "markdown",
   "metadata": {},
   "source": [
    "## 4. Evaluating model"
   ]
  },
  {
   "cell_type": "code",
   "execution_count": 10,
   "metadata": {},
   "outputs": [
    {
     "name": "stdout",
     "output_type": "stream",
     "text": [
      "Train Dataset 통합 평가지수(Precision/Recall/F1Score)\n"
     ]
    },
    {
     "data": {
      "text/plain": [
       "{'MulticlassPrecision': tensor(1., device='cuda:0'),\n",
       " 'MulticlassRecall': tensor(1., device='cuda:0'),\n",
       " 'MulticlassF1Score': tensor(1., device='cuda:0')}"
      ]
     },
     "execution_count": 10,
     "metadata": {},
     "output_type": "execute_result"
    }
   ],
   "source": [
    "print(\"Train Dataset 통합 평가지수(Precision/Recall/F1Score)\")\n",
    "net.eval()\n",
    "with T.no_grad():\n",
    "    output_train = net(train_ds.x_data)\n",
    "target_train = train_ds.y_data\n",
    "preds_train  = output_train.argmax(dim=1, keepdim=True).squeeze(1)\n",
    "metric_collection_weighted(preds_train, target_train)"
   ]
  },
  {
   "cell_type": "code",
   "execution_count": 11,
   "metadata": {},
   "outputs": [
    {
     "name": "stdout",
     "output_type": "stream",
     "text": [
      "Test Dataset 통합 평가지수(Precision/Recall/F1Score)\n"
     ]
    },
    {
     "data": {
      "text/plain": [
       "{'MulticlassPrecision': tensor(0.4866, device='cuda:0'),\n",
       " 'MulticlassRecall': tensor(0.4634, device='cuda:0'),\n",
       " 'MulticlassF1Score': tensor(0.4518, device='cuda:0')}"
      ]
     },
     "execution_count": 11,
     "metadata": {},
     "output_type": "execute_result"
    }
   ],
   "source": [
    "print(\"Test Dataset 통합 평가지수(Precision/Recall/F1Score)\")\n",
    "net.eval()\n",
    "with T.no_grad():\n",
    "    output_test = net(test_ds.x_data)\n",
    "target_test = test_ds.y_data\n",
    "preds_test  = output_test.argmax(dim=1, keepdim=True).squeeze(1)\n",
    "metric_collection_weighted(preds_test, target_test)"
   ]
  },
  {
   "cell_type": "markdown",
   "metadata": {},
   "source": [
    "### 4-1. Evaluating model with Train Dataset"
   ]
  },
  {
   "cell_type": "code",
   "execution_count": 12,
   "metadata": {},
   "outputs": [
    {
     "data": {
      "image/png": "[encoded data removed]",
      "text/plain": [
       "<Figure size 640x480 with 1 Axes>"
      ]
     },
     "metadata": {},
     "output_type": "display_data"
    }
   ],
   "source": [
    "target_train = train_ds.y_data\n",
    "preds_train  = output_train.argmax(dim=1, keepdim=True).squeeze(1)\n",
    "metric_train = MulticlassConfusionMatrix(num_classes=4).to(device)\n",
    "metric_train.update(preds_train, target_train)\n",
    "fig_, ax_ = metric_train.plot()"
   ]
  },
  {
   "cell_type": "code",
   "execution_count": 13,
   "metadata": {},
   "outputs": [
    {
     "name": "stdout",
     "output_type": "stream",
     "text": [
      "Train Dataset 세부 평가지수(레이블 각각의 Precision/Recall/F1Score)\n"
     ]
    },
    {
     "data": {
      "text/plain": [
       "{'MulticlassPrecision': tensor([1., 1., 1., 1.], device='cuda:0'),\n",
       " 'MulticlassRecall': tensor([1., 1., 1., 1.], device='cuda:0'),\n",
       " 'MulticlassF1Score': tensor([1., 1., 1., 1.], device='cuda:0')}"
      ]
     },
     "execution_count": 13,
     "metadata": {},
     "output_type": "execute_result"
    }
   ],
   "source": [
    "print(\"Train Dataset 세부 평가지수(레이블 각각의 Precision/Recall/F1Score)\")\n",
    "metric_collection(preds_train, target_train)"
   ]
  },
  {
   "cell_type": "markdown",
   "metadata": {},
   "source": [
    "### 4-2. Evaluating model with Test Dataset"
   ]
  },
  {
   "cell_type": "code",
   "execution_count": 14,
   "metadata": {},
   "outputs": [
    {
     "data": {
      "image/png": "[encoded data removed]",
      "text/plain": [
       "<Figure size 640x480 with 1 Axes>"
      ]
     },
     "metadata": {},
     "output_type": "display_data"
    }
   ],
   "source": [
    "target_test = test_ds.y_data\n",
    "preds_test  = output_test.argmax(dim=1, keepdim=True).squeeze(1)\n",
    "metric_test = MulticlassConfusionMatrix(num_classes=4).to(device)\n",
    "metric_test.update(preds_test, target_test)\n",
    "fig_, ax_ = metric_test.plot()"
   ]
  },
  {
   "cell_type": "code",
   "execution_count": 15,
   "metadata": {},
   "outputs": [
    {
     "name": "stdout",
     "output_type": "stream",
     "text": [
      "Train Dataset 세부 평가지수(레이블 각각의 Precision/Recall/F1Score)\n"
     ]
    },
    {
     "data": {
      "text/plain": [
       "{'MulticlassPrecision': tensor([0.0000, 0.0000, 0.3800, 0.5938], device='cuda:0'),\n",
       " 'MulticlassRecall': tensor([0.0000, 0.0000, 0.6333, 0.3958], device='cuda:0'),\n",
       " 'MulticlassF1Score': tensor([0.0000, 0.0000, 0.4750, 0.4750], device='cuda:0')}"
      ]
     },
     "execution_count": 15,
     "metadata": {},
     "output_type": "execute_result"
    }
   ],
   "source": [
    "print(\"Train Dataset 세부 평가지수(레이블 각각의 Precision/Recall/F1Score)\")\n",
    "metric_collection(preds_test, target_test)"
   ]
  },
  {
   "cell_type": "markdown",
   "metadata": {},
   "source": [
    "## 5. Save model"
   ]
  },
  {
   "cell_type": "code",
   "execution_count": 16,
   "metadata": {},
   "outputs": [],
   "source": [
    "# # 단일 GPU에서 훈련시킨 경우\n",
    "# file_name = \"./Model_save/exam.pt\"\n",
    "# T.save(net.state_dict(), file_name)  \n",
    "# print(\"\\ntrained model state saved\")"
   ]
  },
  {
   "cell_type": "code",
   "execution_count": 17,
   "metadata": {},
   "outputs": [
    {
     "name": "stdout",
     "output_type": "stream",
     "text": [
      "\n",
      "trained model state saved\n"
     ]
    }
   ],
   "source": [
    "# 여러 GPU에서 DataParallel로 훈련시키고 나서 weight를 통합해서 저장하는 방법 \n",
    "# (나중에 불러낸 후 단일 GPU에서 추론 해야만 할 때를 대비하기 위함임) \n",
    "# file_name = \"./Model_save/exam.pt\"\n",
    "# T.save(net.module.state_dict(), file_name)  \n",
    "# print(\"\\ntrained model state saved\")\n",
    "\n",
    "current_F1 = MulticlassF1Score(num_classes=4, average=\"weighted\").to(device)(preds_test, target_test)\n",
    "if current_F1 > max_F1 :\n",
    "    max_F1 = current_F1\n",
    "    file_name = \"./exam.pt\"\n",
    "    T.save(net.module.state_dict(), file_name)  \n",
    "    print(\"\\ntrained model state saved\")"
   ]
  },
  {
   "cell_type": "code",
   "execution_count": null,
   "metadata": {},
   "outputs": [],
   "source": []
  }
 ],
 "metadata": {
  "kernelspec": {
   "display_name": "tc3",
   "language": "python",
   "name": "python3"
  },
  "language_info": {
   "codemirror_mode": {
    "name": "ipython",
    "version": 3
   },
   "file_extension": ".py",
   "mimetype": "text/x-python",
   "name": "python",
   "nbconvert_exporter": "python",
   "pygments_lexer": "ipython3",
   "version": "3.8.20"
  }
 },
 "nbformat": 4,
 "nbformat_minor": 2
}
