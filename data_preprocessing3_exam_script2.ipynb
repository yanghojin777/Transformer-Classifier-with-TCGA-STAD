{
 "cells": [
  {
   "cell_type": "markdown",
   "metadata": {},
   "source": [
    "## 시험 스크립트 2 : (스크립트1로) 모델 훈련 후에 저장했던 모델weight를 가지고 축소 모델 Shap Explainer 객체를 만들고 이를 활용해 악성종양 분류에의 기여도가 가장 큰 유전자 20개를 뽑은 다음, 이전 데이터셋에서 이 20개를 제외한 새로운 데이터셋을 만듦"
   ]
  },
  {
   "cell_type": "markdown",
   "metadata": {},
   "source": [
    "## 1. Loading helper modules & functions"
   ]
  },
  {
   "cell_type": "code",
   "execution_count": 1,
   "metadata": {},
   "outputs": [
    {
     "name": "stdout",
     "output_type": "stream",
     "text": [
      "Pytorch version: 1.12.1 CUDA version: 11.3 cuDNN version: 8302\n",
      "device: cuda NVIDIA RTX A6000\n"
     ]
    }
   ],
   "source": [
    "%load_ext autoreload\n",
    "%autoreload 2\n",
    "import torch as T\n",
    "import torch.nn as nn\n",
    "import pandas as pd\n",
    "import numpy as np\n",
    "import h5py\n",
    "import torchinfo\n",
    "device = T.device(\"cuda\" if T.cuda.is_available() else \"cpu\")\n",
    "from sklearn.model_selection import train_test_split\n",
    "import shap\n",
    "print(\"Pytorch version:\", T.__version__, \"CUDA version:\", T.version.cuda, \"cuDNN version:\", T.backends.cudnn.version())\n",
    "print(\"device:\", device, T.cuda.get_device_name(0))"
   ]
  },
  {
   "cell_type": "markdown",
   "metadata": {},
   "source": [
    "## 2. Implementing backbone of Transformer-based Classifier"
   ]
  },
  {
   "cell_type": "code",
   "execution_count": 2,
   "metadata": {},
   "outputs": [
    {
     "name": "stdout",
     "output_type": "stream",
     "text": [
      "X.shape : (407, 1461) , X.dtype : float64\n",
      "Y.shape : (407,)      , Y.dtype : int8\n",
      "\n",
      "The number of feature : 1461\n"
     ]
    }
   ],
   "source": [
    "# feature 개수 확인 및 설정\n",
    "hf = h5py.File('STAD_Dataset3_ALL_exam.h5', 'r')\n",
    "X = np.array(hf.get('X'))\n",
    "Y = np.array(hf.get('Y'))\n",
    "print('X.shape :', X.shape, ', X.dtype :', X.dtype)\n",
    "print('Y.shape :', Y.shape, '     , Y.dtype :', Y.dtype)\n",
    "hf.close()\n",
    "\n",
    "n_feature = X.shape[1]\n",
    "print(\"\\nThe number of feature :\", n_feature)"
   ]
  },
  {
   "cell_type": "code",
   "execution_count": 3,
   "metadata": {},
   "outputs": [],
   "source": [
    "class STAD_Dataset(T.utils.data.Dataset):\n",
    "    def __init__(self, src_file):\n",
    "        hf = h5py.File(src_file, 'r')\n",
    "        if 'X_Train' in hf.keys() :\n",
    "            # X = np.array(hf.get('X_Train')).astype('int64')\n",
    "            X = np.array(hf.get('X_Train'))\n",
    "            Y = np.array(hf.get('Y_Train')).astype('int8')\n",
    "        else :\n",
    "            # X = np.array(hf.get('X_Test')).astype('int64')\n",
    "            X = np.array(hf.get('X_Test'))\n",
    "            Y = np.array(hf.get('Y_Test')).astype('int8')\n",
    "        hf.close()\n",
    "\n",
    "        # self.x_data = T.tensor(X, dtype=T.int64).to(device)\n",
    "        self.x_data = T.tensor(X, dtype=T.float32).to(device)\n",
    "        self.y_data = T.tensor(Y, dtype=T.int64).to(device)  \n",
    "\n",
    "    def __len__(self):\n",
    "        return len(self.x_data)\n",
    "\n",
    "    def __getitem__(self, idx):\n",
    "        x = self.x_data[idx]\n",
    "        y = self.y_data[idx] \n",
    "        return x, y  "
   ]
  },
  {
   "cell_type": "code",
   "execution_count": 4,
   "metadata": {},
   "outputs": [],
   "source": [
    "class PositionalEncoding(T.nn.Module):  \n",
    "    def __init__(self, d_model: int, dropout: float=0.1, max_len: int=n_feature):\n",
    "        super(PositionalEncoding, self).__init__()  \n",
    "        self.dropout = T.nn.Dropout(p=dropout)\n",
    "        pe = T.zeros(max_len, d_model)  \n",
    "        position = T.arange(0, max_len, dtype=T.float32).unsqueeze(1)\n",
    "        div_term = T.exp(T.arange(0, d_model, 2).float() * (-np.log(10_000.0) / d_model))\n",
    "        pe[:, 0::2] = T.sin(position * div_term)\n",
    "        pe[:, 1::2] = T.cos(position * div_term)\n",
    "        pe = pe.unsqueeze(0).transpose(0, 1)\n",
    "        self.register_buffer('pe', pe)  # 이게 없으면 나중에 forward 에서 pe값을 못 찾아 에러남\n",
    "\n",
    "    def forward(self, x):\n",
    "        x = x + self.pe[:x.size(0), :]\n",
    "        return self.dropout(x)"
   ]
  },
  {
   "cell_type": "code",
   "execution_count": 5,
   "metadata": {},
   "outputs": [],
   "source": [
    "# E = number of cases that all features can express in integer (feature=token) \n",
    "# D = #Embedding Dimension ; I = #input features ; F = #fc1 layer hidden nodes ; drop = dropout rate\n",
    "E = 320 ; D = 8 ; I = n_feature ; F = 8 ; drop = 0.1\n",
    "class Transformer_Classifier(T.nn.Module):  # 1501 -> 12008 -> Transformer -> FC -> 4\n",
    "    def __init__(self):\n",
    "        super(Transformer_Classifier, self).__init__() \n",
    "        # numeric pseudo-embedding, dim=D\n",
    "        # self.embed = Special_Embedding_Layer(I, I*D)  # I input features, each goes to D \n",
    "        self.embed = T.nn.Embedding(E, D)  # I input features, each goes to D\n",
    "        self.pos_enc = PositionalEncoding(D, dropout=drop)  # positional embedding\n",
    "        self.enc_layer = T.nn.TransformerEncoderLayer(d_model=D, nhead=4, dim_feedforward=D, \n",
    "                         dropout=drop, batch_first=True)  # d_model should be divisible by nhead\n",
    "        self.trans_enc = T.nn.TransformerEncoder(self.enc_layer, num_layers=3)  # default 6 layers \n",
    "        # STAD Dataset has I input features per each sample\n",
    "        self.dropout = nn.Dropout(drop)\n",
    "        # self.fc1 = T.nn.Linear(D*I, F)  # F hidden nodes\n",
    "        # self.fc2 = T.nn.Linear(F, 4)    # 4 classes\n",
    "        self.fc3 = T.nn.Linear(D*I, 4)    # 4 classes (GX, G1, G2, G3)\n",
    "\n",
    "    def forward(self, x):\n",
    "        # x = I input features, fixed length\n",
    "        z = self.embed(x.int())  # I inputs to I*D embeds\n",
    "        z = z.reshape(-1, I, D) \n",
    "        z = self.pos_enc(z) \n",
    "        z = self.trans_enc(z) \n",
    "        z = z.reshape(-1, D*I)  # torch.Size([batch_size, D*I])\n",
    "        # z = self.dropout(z)\n",
    "        # z = self.fc1(z)\n",
    "        # z = T.tanh(z)\n",
    "        z = self.dropout(z)\n",
    "        z = self.fc3(z)\n",
    "        z = T.log_softmax(z, dim=1)  # later followed by NLL Loss()\n",
    "        return z\n",
    "max_F1 = 0"
   ]
  },
  {
   "cell_type": "markdown",
   "metadata": {},
   "source": [
    "### 3-1. Lodaing Dataset"
   ]
  },
  {
   "cell_type": "code",
   "execution_count": 6,
   "metadata": {},
   "outputs": [
    {
     "name": "stdout",
     "output_type": "stream",
     "text": [
      "Making tensor dataset of STAD samples on device cuda NVIDIA RTX A6000\n",
      "  325 training dataset created from an h5 file\n",
      "  82 test dataset created from an h5 file\n"
     ]
    }
   ],
   "source": [
    "# 0. setup\n",
    "print(\"Making tensor dataset of STAD samples on device\", device, T.cuda.get_device_name(0))\n",
    "np.random.seed(1)  \n",
    "T.manual_seed(1)  \n",
    "\n",
    "# 1. create Dataset\n",
    "train_file = \"./STAD_Dataset3_Train_exam.h5\"\n",
    "train_ds = STAD_Dataset(train_file)\n",
    "print(\" \", len(train_ds), \"training dataset created from an h5 file\")\n",
    "\n",
    "test_file = \"./STAD_Dataset3_Test_exam.h5\"\n",
    "test_ds = STAD_Dataset(test_file)\n",
    "print(\" \", len(test_ds), \"test dataset created from an h5 file\")"
   ]
  },
  {
   "cell_type": "markdown",
   "metadata": {},
   "source": [
    "## 7. Analizing the degree of contribution of each feature using SHAP"
   ]
  },
  {
   "cell_type": "markdown",
   "metadata": {},
   "source": [
    "#### 7-1. 트랜스포머 인코더 feature 번호가 어떤 유전자ID였는지 참조할 리스트 만들고 각 유전자ID에 해당하는 gene symbol 리스트 만들기"
   ]
  },
  {
   "cell_type": "code",
   "execution_count": 7,
   "metadata": {},
   "outputs": [
    {
     "name": "stdout",
     "output_type": "stream",
     "text": [
      "Length of the gene symbol list : 1461\n"
     ]
    }
   ],
   "source": [
    "df_All = pd.read_pickle('xy_STAD-related-only3_exam_features_removed.pkl')\n",
    "df_X = df_All.drop(labels=['neoplasm_histologic_grade','submitter_id.samples'], axis=1)\n",
    "STAD_related_geneID_list = df_X.columns\n",
    "\n",
    "df = pd.read_excel('GASCplusPHGDH_1554.xlsx')\n",
    "\n",
    "STAD_related_gene_symbol_list = []\n",
    "for gene_ID in STAD_related_geneID_list:\n",
    "    for i, E_ID in enumerate(df['Ensembl ID']):\n",
    "        if gene_ID == E_ID:\n",
    "            STAD_related_gene_symbol_list.append(df['Gene Symbol'][i])\n",
    "print(\"Length of the gene symbol list :\", len(STAD_related_gene_symbol_list))"
   ]
  },
  {
   "cell_type": "markdown",
   "metadata": {},
   "source": [
    "### 7-2. Plotting shapley values using Gradient Explainer with transformer"
   ]
  },
  {
   "cell_type": "code",
   "execution_count": 8,
   "metadata": {},
   "outputs": [
    {
     "data": {
      "text/plain": [
       "<All keys matched successfully>"
      ]
     },
     "execution_count": 8,
     "metadata": {},
     "output_type": "execute_result"
    }
   ],
   "source": [
    "# 훈련했던 모델 불러오기\n",
    "model = Transformer_Classifier().to(device)\n",
    "model.load_state_dict(T.load('./exam.pt'))"
   ]
  },
  {
   "cell_type": "code",
   "execution_count": 9,
   "metadata": {},
   "outputs": [],
   "source": [
    "# 복잡한 트랜스포머 모델을 설명하기 위한 작은 축소 모델 만들기 \n",
    "ge = shap.GradientExplainer((model, model.trans_enc), train_ds.x_data[:275])"
   ]
  },
  {
   "cell_type": "code",
   "execution_count": 10,
   "metadata": {},
   "outputs": [
    {
     "data": {
      "text/plain": [
       "(4, (1, 1461, 8), (1461, 8), (8, 1461))"
      ]
     },
     "execution_count": 10,
     "metadata": {},
     "output_type": "execute_result"
    }
   ],
   "source": [
    "# 축소모델로 shapley value 구하기\n",
    "G_shap_values = ge.shap_values(train_ds.x_data[0:1])\n",
    "len(G_shap_values), G_shap_values[3].shape, G_shap_values[3][0].shape, G_shap_values[3][0].T.shape"
   ]
  },
  {
   "cell_type": "code",
   "execution_count": 11,
   "metadata": {},
   "outputs": [
    {
     "data": {
      "image/png": "[encoded data removed]",
      "text/plain": [
       "<Figure size 800x950 with 1 Axes>"
      ]
     },
     "metadata": {},
     "output_type": "display_data"
    }
   ],
   "source": [
    "# Shapley value 로 각 feature 들의 (모델추론결과(분류)에의) 기여도(영향력) 그래프 그리기\n",
    "shap.summary_plot(G_shap_values[3][0].T, plot_type='bar', features=STAD_related_gene_symbol_list)"
   ]
  },
  {
   "cell_type": "markdown",
   "metadata": {},
   "source": [
    "##### 7-3. 악성종양 분류에의 기여도가 가장 큰 20개의 유전자를 뺀 데이터 파일 만들기 "
   ]
  },
  {
   "cell_type": "code",
   "execution_count": 12,
   "metadata": {},
   "outputs": [
    {
     "data": {
      "text/html": [
       "<div>\n",
       "<style scoped>\n",
       "    .dataframe tbody tr th:only-of-type {\n",
       "        vertical-align: middle;\n",
       "    }\n",
       "\n",
       "    .dataframe tbody tr th {\n",
       "        vertical-align: top;\n",
       "    }\n",
       "\n",
       "    .dataframe thead th {\n",
       "        text-align: right;\n",
       "    }\n",
       "</style>\n",
       "<table border=\"1\" class=\"dataframe\">\n",
       "  <thead>\n",
       "    <tr style=\"text-align: right;\">\n",
       "      <th></th>\n",
       "      <th>G_symbol</th>\n",
       "      <th>head1</th>\n",
       "      <th>head2</th>\n",
       "      <th>head3</th>\n",
       "      <th>head4</th>\n",
       "      <th>head5</th>\n",
       "      <th>head6</th>\n",
       "      <th>head7</th>\n",
       "      <th>head8</th>\n",
       "      <th>abs_mean</th>\n",
       "    </tr>\n",
       "  </thead>\n",
       "  <tbody>\n",
       "    <tr>\n",
       "      <th>801</th>\n",
       "      <td>RECQL4</td>\n",
       "      <td>0.001185</td>\n",
       "      <td>-0.017233</td>\n",
       "      <td>-0.000494</td>\n",
       "      <td>-0.017928</td>\n",
       "      <td>-0.001304</td>\n",
       "      <td>0.004831</td>\n",
       "      <td>-0.000939</td>\n",
       "      <td>0.004483</td>\n",
       "      <td>0.006049</td>\n",
       "    </tr>\n",
       "    <tr>\n",
       "      <th>417</th>\n",
       "      <td>PHF19</td>\n",
       "      <td>-0.001914</td>\n",
       "      <td>0.012021</td>\n",
       "      <td>-0.002366</td>\n",
       "      <td>0.017526</td>\n",
       "      <td>-0.001237</td>\n",
       "      <td>0.005213</td>\n",
       "      <td>0.000116</td>\n",
       "      <td>-0.007434</td>\n",
       "      <td>0.005978</td>\n",
       "    </tr>\n",
       "    <tr>\n",
       "      <th>612</th>\n",
       "      <td>G3BP2</td>\n",
       "      <td>-0.002700</td>\n",
       "      <td>-0.007660</td>\n",
       "      <td>0.000481</td>\n",
       "      <td>0.016967</td>\n",
       "      <td>0.002052</td>\n",
       "      <td>-0.008464</td>\n",
       "      <td>0.000220</td>\n",
       "      <td>0.003569</td>\n",
       "      <td>0.005264</td>\n",
       "    </tr>\n",
       "    <tr>\n",
       "      <th>950</th>\n",
       "      <td>FOS</td>\n",
       "      <td>0.000068</td>\n",
       "      <td>0.011580</td>\n",
       "      <td>-0.000230</td>\n",
       "      <td>0.014795</td>\n",
       "      <td>0.004171</td>\n",
       "      <td>0.003129</td>\n",
       "      <td>0.000013</td>\n",
       "      <td>-0.007504</td>\n",
       "      <td>0.005186</td>\n",
       "    </tr>\n",
       "    <tr>\n",
       "      <th>384</th>\n",
       "      <td>MSH6</td>\n",
       "      <td>0.000795</td>\n",
       "      <td>-0.010160</td>\n",
       "      <td>0.000737</td>\n",
       "      <td>-0.009379</td>\n",
       "      <td>0.000069</td>\n",
       "      <td>-0.006773</td>\n",
       "      <td>-0.001361</td>\n",
       "      <td>0.011064</td>\n",
       "      <td>0.005042</td>\n",
       "    </tr>\n",
       "    <tr>\n",
       "      <th>...</th>\n",
       "      <td>...</td>\n",
       "      <td>...</td>\n",
       "      <td>...</td>\n",
       "      <td>...</td>\n",
       "      <td>...</td>\n",
       "      <td>...</td>\n",
       "      <td>...</td>\n",
       "      <td>...</td>\n",
       "      <td>...</td>\n",
       "      <td>...</td>\n",
       "    </tr>\n",
       "    <tr>\n",
       "      <th>732</th>\n",
       "      <td>SAP18</td>\n",
       "      <td>0.000043</td>\n",
       "      <td>-0.001110</td>\n",
       "      <td>0.000166</td>\n",
       "      <td>0.000582</td>\n",
       "      <td>0.000037</td>\n",
       "      <td>0.000434</td>\n",
       "      <td>0.000168</td>\n",
       "      <td>-0.001213</td>\n",
       "      <td>0.000469</td>\n",
       "    </tr>\n",
       "    <tr>\n",
       "      <th>709</th>\n",
       "      <td>AOPEP</td>\n",
       "      <td>0.000092</td>\n",
       "      <td>-0.000904</td>\n",
       "      <td>0.000017</td>\n",
       "      <td>-0.000437</td>\n",
       "      <td>0.000301</td>\n",
       "      <td>0.000432</td>\n",
       "      <td>0.000185</td>\n",
       "      <td>-0.000784</td>\n",
       "      <td>0.000394</td>\n",
       "    </tr>\n",
       "    <tr>\n",
       "      <th>1106</th>\n",
       "      <td>DPYD</td>\n",
       "      <td>0.000133</td>\n",
       "      <td>-0.000007</td>\n",
       "      <td>-0.000022</td>\n",
       "      <td>0.000108</td>\n",
       "      <td>-0.000045</td>\n",
       "      <td>-0.001546</td>\n",
       "      <td>0.000302</td>\n",
       "      <td>-0.000800</td>\n",
       "      <td>0.000370</td>\n",
       "    </tr>\n",
       "    <tr>\n",
       "      <th>248</th>\n",
       "      <td>GSR</td>\n",
       "      <td>-0.000449</td>\n",
       "      <td>0.000040</td>\n",
       "      <td>-0.000178</td>\n",
       "      <td>-0.000083</td>\n",
       "      <td>-0.000019</td>\n",
       "      <td>0.000128</td>\n",
       "      <td>-0.000115</td>\n",
       "      <td>0.000918</td>\n",
       "      <td>0.000241</td>\n",
       "    </tr>\n",
       "    <tr>\n",
       "      <th>1251</th>\n",
       "      <td>MIR199A1</td>\n",
       "      <td>0.000269</td>\n",
       "      <td>-0.000154</td>\n",
       "      <td>-0.000208</td>\n",
       "      <td>0.000037</td>\n",
       "      <td>-0.000010</td>\n",
       "      <td>-0.000592</td>\n",
       "      <td>0.000019</td>\n",
       "      <td>-0.000330</td>\n",
       "      <td>0.000202</td>\n",
       "    </tr>\n",
       "  </tbody>\n",
       "</table>\n",
       "<p>1461 rows × 10 columns</p>\n",
       "</div>"
      ],
      "text/plain": [
       "      G_symbol     head1     head2     head3     head4     head5     head6  \\\n",
       "801     RECQL4  0.001185 -0.017233 -0.000494 -0.017928 -0.001304  0.004831   \n",
       "417      PHF19 -0.001914  0.012021 -0.002366  0.017526 -0.001237  0.005213   \n",
       "612      G3BP2 -0.002700 -0.007660  0.000481  0.016967  0.002052 -0.008464   \n",
       "950        FOS  0.000068  0.011580 -0.000230  0.014795  0.004171  0.003129   \n",
       "384       MSH6  0.000795 -0.010160  0.000737 -0.009379  0.000069 -0.006773   \n",
       "...        ...       ...       ...       ...       ...       ...       ...   \n",
       "732      SAP18  0.000043 -0.001110  0.000166  0.000582  0.000037  0.000434   \n",
       "709      AOPEP  0.000092 -0.000904  0.000017 -0.000437  0.000301  0.000432   \n",
       "1106      DPYD  0.000133 -0.000007 -0.000022  0.000108 -0.000045 -0.001546   \n",
       "248        GSR -0.000449  0.000040 -0.000178 -0.000083 -0.000019  0.000128   \n",
       "1251  MIR199A1  0.000269 -0.000154 -0.000208  0.000037 -0.000010 -0.000592   \n",
       "\n",
       "         head7     head8  abs_mean  \n",
       "801  -0.000939  0.004483  0.006049  \n",
       "417   0.000116 -0.007434  0.005978  \n",
       "612   0.000220  0.003569  0.005264  \n",
       "950   0.000013 -0.007504  0.005186  \n",
       "384  -0.001361  0.011064  0.005042  \n",
       "...        ...       ...       ...  \n",
       "732   0.000168 -0.001213  0.000469  \n",
       "709   0.000185 -0.000784  0.000394  \n",
       "1106  0.000302 -0.000800  0.000370  \n",
       "248  -0.000115  0.000918  0.000241  \n",
       "1251  0.000019 -0.000330  0.000202  \n",
       "\n",
       "[1461 rows x 10 columns]"
      ]
     },
     "execution_count": 12,
     "metadata": {},
     "output_type": "execute_result"
    }
   ],
   "source": [
    "# 위 그래프 상황 데이터프레임으로 재현\n",
    "shap_df = pd.DataFrame(data=G_shap_values[3][0])\n",
    "symbol_df = pd.DataFrame(data=STAD_related_gene_symbol_list)\n",
    "symbol_shap_df = pd.concat([symbol_df, shap_df], axis=1)\n",
    "mean_df = pd.DataFrame(np.mean(np.abs(G_shap_values[3][0]), axis=1))\n",
    "symbol_shap_mean_df = pd.concat([symbol_shap_df, mean_df], axis=1)\n",
    "symbol_shap_mean_df.columns=['G_symbol','head1','head2','head3','head4','head5','head6','head7','head8','abs_mean']\n",
    "symbol_shap_mean_df_sorted = symbol_shap_mean_df.sort_values(by=['abs_mean'], ascending=[False])\n",
    "symbol_shap_mean_df_sorted"
   ]
  },
  {
   "cell_type": "code",
   "execution_count": 13,
   "metadata": {},
   "outputs": [
    {
     "data": {
      "text/plain": [
       "801        RECQL4\n",
       "417         PHF19\n",
       "612         G3BP2\n",
       "950           FOS\n",
       "384          MSH6\n",
       "441           PLG\n",
       "431        TARDBP\n",
       "965         KRT19\n",
       "418       DENND1A\n",
       "1442        ORAI1\n",
       "147         GSK3B\n",
       "249     TNFRSF10A\n",
       "1380        CASC9\n",
       "129          MLH1\n",
       "116          SDHA\n",
       "43           BAK1\n",
       "960         RIOX2\n",
       "551         CDCA8\n",
       "898          IGF2\n",
       "1119         FUT4\n",
       "Name: G_symbol, dtype: object"
      ]
     },
     "execution_count": 13,
     "metadata": {},
     "output_type": "execute_result"
    }
   ],
   "source": [
    "# 상위 20개의 Gene symbol\n",
    "symbol_shap_mean_df_sorted.iloc[0:20]['G_symbol']"
   ]
  },
  {
   "cell_type": "code",
   "execution_count": 14,
   "metadata": {},
   "outputs": [
    {
     "data": {
      "text/plain": [
       "['ENSG00000160957',\n",
       " 'ENSG00000119403',\n",
       " 'ENSG00000138757',\n",
       " 'ENSG00000170345',\n",
       " 'ENSG00000116062',\n",
       " 'ENSG00000122194',\n",
       " 'ENSG00000120948',\n",
       " 'ENSG00000171345',\n",
       " 'ENSG00000119522',\n",
       " 'ENSG00000276045',\n",
       " 'ENSG00000082701',\n",
       " 'ENSG00000104689',\n",
       " 'ENSG00000249395',\n",
       " 'ENSG00000076242',\n",
       " 'ENSG00000073578',\n",
       " 'ENSG00000030110',\n",
       " 'ENSG00000170854',\n",
       " 'ENSG00000134690',\n",
       " 'ENSG00000167244',\n",
       " 'ENSG00000196371']"
      ]
     },
     "execution_count": 14,
     "metadata": {},
     "output_type": "execute_result"
    }
   ],
   "source": [
    "# 상위 20개의 Gene symbol 에 해당하는 Ensenbl ID를 GASCplusPHGDH_1554 df 에서 찾아 리스트로 만들기  \n",
    "ENSG_IDs_to_remove = []\n",
    "for G in symbol_shap_mean_df_sorted.iloc[0:20]['G_symbol']:\n",
    "    ENSG_IDs_to_remove.append(df[df['Gene Symbol']==G]['Ensembl ID'].to_string()[-15:])\n",
    "ENSG_IDs_to_remove"
   ]
  },
  {
   "cell_type": "code",
   "execution_count": 15,
   "metadata": {},
   "outputs": [
    {
     "data": {
      "text/html": [
       "<div>\n",
       "<style scoped>\n",
       "    .dataframe tbody tr th:only-of-type {\n",
       "        vertical-align: middle;\n",
       "    }\n",
       "\n",
       "    .dataframe tbody tr th {\n",
       "        vertical-align: top;\n",
       "    }\n",
       "\n",
       "    .dataframe thead th {\n",
       "        text-align: right;\n",
       "    }\n",
       "</style>\n",
       "<table border=\"1\" class=\"dataframe\">\n",
       "  <thead>\n",
       "    <tr style=\"text-align: right;\">\n",
       "      <th></th>\n",
       "      <th>ENSG00000001036</th>\n",
       "      <th>ENSG00000001626</th>\n",
       "      <th>ENSG00000002330</th>\n",
       "      <th>ENSG00000003400</th>\n",
       "      <th>ENSG00000003402</th>\n",
       "      <th>ENSG00000005007</th>\n",
       "      <th>ENSG00000005156</th>\n",
       "      <th>ENSG00000005175</th>\n",
       "      <th>ENSG00000005844</th>\n",
       "      <th>ENSG00000006327</th>\n",
       "      <th>...</th>\n",
       "      <th>ENSG00000278910</th>\n",
       "      <th>ENSG00000280924</th>\n",
       "      <th>ENSG00000280997</th>\n",
       "      <th>ENSG00000281183</th>\n",
       "      <th>ENSG00000281189</th>\n",
       "      <th>ENSG00000281202</th>\n",
       "      <th>ENSG00000281406</th>\n",
       "      <th>ENSG00000281450</th>\n",
       "      <th>neoplasm_histologic_grade</th>\n",
       "      <th>submitter_id.samples</th>\n",
       "    </tr>\n",
       "  </thead>\n",
       "  <tbody>\n",
       "    <tr>\n",
       "      <th>318</th>\n",
       "      <td>20.219629</td>\n",
       "      <td>16.825263</td>\n",
       "      <td>19.121479</td>\n",
       "      <td>17.287974</td>\n",
       "      <td>16.630257</td>\n",
       "      <td>17.568893</td>\n",
       "      <td>15.572426</td>\n",
       "      <td>16.993762</td>\n",
       "      <td>15.244971</td>\n",
       "      <td>20.196295</td>\n",
       "      <td>...</td>\n",
       "      <td>11.962227</td>\n",
       "      <td>13.237309</td>\n",
       "      <td>8.099240</td>\n",
       "      <td>15.439994</td>\n",
       "      <td>12.557625</td>\n",
       "      <td>0.000000</td>\n",
       "      <td>14.470708</td>\n",
       "      <td>0.000000</td>\n",
       "      <td>G1</td>\n",
       "      <td>TCGA-KB-A93H-01A</td>\n",
       "    </tr>\n",
       "    <tr>\n",
       "      <th>317</th>\n",
       "      <td>18.819095</td>\n",
       "      <td>12.144605</td>\n",
       "      <td>17.963353</td>\n",
       "      <td>16.261201</td>\n",
       "      <td>18.064107</td>\n",
       "      <td>18.698039</td>\n",
       "      <td>15.809532</td>\n",
       "      <td>16.613230</td>\n",
       "      <td>15.892170</td>\n",
       "      <td>19.542097</td>\n",
       "      <td>...</td>\n",
       "      <td>0.000000</td>\n",
       "      <td>11.723755</td>\n",
       "      <td>10.902820</td>\n",
       "      <td>15.902137</td>\n",
       "      <td>11.159664</td>\n",
       "      <td>0.000000</td>\n",
       "      <td>13.233482</td>\n",
       "      <td>8.801656</td>\n",
       "      <td>G1</td>\n",
       "      <td>TCGA-KB-A93G-01A</td>\n",
       "    </tr>\n",
       "    <tr>\n",
       "      <th>132</th>\n",
       "      <td>19.807727</td>\n",
       "      <td>17.048517</td>\n",
       "      <td>19.515146</td>\n",
       "      <td>17.236227</td>\n",
       "      <td>16.513151</td>\n",
       "      <td>18.753454</td>\n",
       "      <td>16.319948</td>\n",
       "      <td>16.776418</td>\n",
       "      <td>15.494267</td>\n",
       "      <td>19.303977</td>\n",
       "      <td>...</td>\n",
       "      <td>0.000000</td>\n",
       "      <td>13.746728</td>\n",
       "      <td>8.880671</td>\n",
       "      <td>13.426548</td>\n",
       "      <td>14.626484</td>\n",
       "      <td>0.000000</td>\n",
       "      <td>16.505431</td>\n",
       "      <td>0.000000</td>\n",
       "      <td>G1</td>\n",
       "      <td>TCGA-CD-5800-01A</td>\n",
       "    </tr>\n",
       "    <tr>\n",
       "      <th>179</th>\n",
       "      <td>18.941061</td>\n",
       "      <td>15.740072</td>\n",
       "      <td>19.171449</td>\n",
       "      <td>16.252021</td>\n",
       "      <td>17.308548</td>\n",
       "      <td>18.667955</td>\n",
       "      <td>15.786658</td>\n",
       "      <td>16.111774</td>\n",
       "      <td>16.296577</td>\n",
       "      <td>20.210354</td>\n",
       "      <td>...</td>\n",
       "      <td>0.000000</td>\n",
       "      <td>13.519727</td>\n",
       "      <td>0.000000</td>\n",
       "      <td>15.516455</td>\n",
       "      <td>12.852409</td>\n",
       "      <td>7.879561</td>\n",
       "      <td>16.408713</td>\n",
       "      <td>8.441310</td>\n",
       "      <td>G1</td>\n",
       "      <td>TCGA-CG-5719-01A</td>\n",
       "    </tr>\n",
       "    <tr>\n",
       "      <th>258</th>\n",
       "      <td>19.919778</td>\n",
       "      <td>18.664863</td>\n",
       "      <td>18.456981</td>\n",
       "      <td>17.296716</td>\n",
       "      <td>16.551752</td>\n",
       "      <td>18.715583</td>\n",
       "      <td>16.050815</td>\n",
       "      <td>17.181970</td>\n",
       "      <td>13.915716</td>\n",
       "      <td>18.051995</td>\n",
       "      <td>...</td>\n",
       "      <td>0.000000</td>\n",
       "      <td>12.874540</td>\n",
       "      <td>9.264021</td>\n",
       "      <td>15.442020</td>\n",
       "      <td>13.462183</td>\n",
       "      <td>0.000000</td>\n",
       "      <td>14.359035</td>\n",
       "      <td>0.000000</td>\n",
       "      <td>G1</td>\n",
       "      <td>TCGA-HU-8244-01A</td>\n",
       "    </tr>\n",
       "    <tr>\n",
       "      <th>...</th>\n",
       "      <td>...</td>\n",
       "      <td>...</td>\n",
       "      <td>...</td>\n",
       "      <td>...</td>\n",
       "      <td>...</td>\n",
       "      <td>...</td>\n",
       "      <td>...</td>\n",
       "      <td>...</td>\n",
       "      <td>...</td>\n",
       "      <td>...</td>\n",
       "      <td>...</td>\n",
       "      <td>...</td>\n",
       "      <td>...</td>\n",
       "      <td>...</td>\n",
       "      <td>...</td>\n",
       "      <td>...</td>\n",
       "      <td>...</td>\n",
       "      <td>...</td>\n",
       "      <td>...</td>\n",
       "      <td>...</td>\n",
       "      <td>...</td>\n",
       "    </tr>\n",
       "    <tr>\n",
       "      <th>82</th>\n",
       "      <td>18.749838</td>\n",
       "      <td>14.442284</td>\n",
       "      <td>18.851856</td>\n",
       "      <td>16.423086</td>\n",
       "      <td>17.029071</td>\n",
       "      <td>18.415530</td>\n",
       "      <td>16.069512</td>\n",
       "      <td>17.105799</td>\n",
       "      <td>15.877429</td>\n",
       "      <td>19.831597</td>\n",
       "      <td>...</td>\n",
       "      <td>11.912352</td>\n",
       "      <td>11.394259</td>\n",
       "      <td>7.374729</td>\n",
       "      <td>15.455789</td>\n",
       "      <td>12.198967</td>\n",
       "      <td>7.031628</td>\n",
       "      <td>13.265510</td>\n",
       "      <td>10.392719</td>\n",
       "      <td>GX</td>\n",
       "      <td>TCGA-BR-8297-01A</td>\n",
       "    </tr>\n",
       "    <tr>\n",
       "      <th>378</th>\n",
       "      <td>20.160689</td>\n",
       "      <td>19.391947</td>\n",
       "      <td>17.841738</td>\n",
       "      <td>17.806221</td>\n",
       "      <td>17.092400</td>\n",
       "      <td>18.839794</td>\n",
       "      <td>16.161789</td>\n",
       "      <td>17.072886</td>\n",
       "      <td>16.660077</td>\n",
       "      <td>18.781345</td>\n",
       "      <td>...</td>\n",
       "      <td>11.641512</td>\n",
       "      <td>10.708630</td>\n",
       "      <td>11.487912</td>\n",
       "      <td>14.583587</td>\n",
       "      <td>13.082237</td>\n",
       "      <td>0.000000</td>\n",
       "      <td>15.675195</td>\n",
       "      <td>10.314506</td>\n",
       "      <td>GX</td>\n",
       "      <td>TCGA-VQ-A91S-01A</td>\n",
       "    </tr>\n",
       "    <tr>\n",
       "      <th>344</th>\n",
       "      <td>19.631296</td>\n",
       "      <td>11.517487</td>\n",
       "      <td>18.765269</td>\n",
       "      <td>17.731691</td>\n",
       "      <td>17.073518</td>\n",
       "      <td>18.193675</td>\n",
       "      <td>15.092689</td>\n",
       "      <td>16.983539</td>\n",
       "      <td>15.178758</td>\n",
       "      <td>21.206392</td>\n",
       "      <td>...</td>\n",
       "      <td>13.597188</td>\n",
       "      <td>12.146249</td>\n",
       "      <td>0.000000</td>\n",
       "      <td>15.329461</td>\n",
       "      <td>9.124790</td>\n",
       "      <td>0.000000</td>\n",
       "      <td>14.680185</td>\n",
       "      <td>10.784776</td>\n",
       "      <td>GX</td>\n",
       "      <td>TCGA-SW-A7EA-01A</td>\n",
       "    </tr>\n",
       "    <tr>\n",
       "      <th>50</th>\n",
       "      <td>19.331497</td>\n",
       "      <td>17.675182</td>\n",
       "      <td>18.370031</td>\n",
       "      <td>16.306453</td>\n",
       "      <td>17.176000</td>\n",
       "      <td>20.383370</td>\n",
       "      <td>15.860547</td>\n",
       "      <td>16.679588</td>\n",
       "      <td>14.489921</td>\n",
       "      <td>18.807122</td>\n",
       "      <td>...</td>\n",
       "      <td>10.363710</td>\n",
       "      <td>12.166602</td>\n",
       "      <td>0.000000</td>\n",
       "      <td>14.522243</td>\n",
       "      <td>13.625953</td>\n",
       "      <td>9.794749</td>\n",
       "      <td>14.882827</td>\n",
       "      <td>0.000000</td>\n",
       "      <td>GX</td>\n",
       "      <td>TCGA-BR-7197-01A</td>\n",
       "    </tr>\n",
       "    <tr>\n",
       "      <th>66</th>\n",
       "      <td>19.419363</td>\n",
       "      <td>17.928373</td>\n",
       "      <td>17.915917</td>\n",
       "      <td>16.921182</td>\n",
       "      <td>17.079391</td>\n",
       "      <td>19.125642</td>\n",
       "      <td>16.099524</td>\n",
       "      <td>17.068377</td>\n",
       "      <td>15.542753</td>\n",
       "      <td>18.450254</td>\n",
       "      <td>...</td>\n",
       "      <td>10.832585</td>\n",
       "      <td>10.899256</td>\n",
       "      <td>9.872328</td>\n",
       "      <td>14.685311</td>\n",
       "      <td>10.865493</td>\n",
       "      <td>13.584348</td>\n",
       "      <td>14.134886</td>\n",
       "      <td>8.508074</td>\n",
       "      <td>GX</td>\n",
       "      <td>TCGA-BR-7957-01A</td>\n",
       "    </tr>\n",
       "  </tbody>\n",
       "</table>\n",
       "<p>407 rows × 1443 columns</p>\n",
       "</div>"
      ],
      "text/plain": [
       "     ENSG00000001036  ENSG00000001626  ENSG00000002330  ENSG00000003400  \\\n",
       "318        20.219629        16.825263        19.121479        17.287974   \n",
       "317        18.819095        12.144605        17.963353        16.261201   \n",
       "132        19.807727        17.048517        19.515146        17.236227   \n",
       "179        18.941061        15.740072        19.171449        16.252021   \n",
       "258        19.919778        18.664863        18.456981        17.296716   \n",
       "..               ...              ...              ...              ...   \n",
       "82         18.749838        14.442284        18.851856        16.423086   \n",
       "378        20.160689        19.391947        17.841738        17.806221   \n",
       "344        19.631296        11.517487        18.765269        17.731691   \n",
       "50         19.331497        17.675182        18.370031        16.306453   \n",
       "66         19.419363        17.928373        17.915917        16.921182   \n",
       "\n",
       "     ENSG00000003402  ENSG00000005007  ENSG00000005156  ENSG00000005175  \\\n",
       "318        16.630257        17.568893        15.572426        16.993762   \n",
       "317        18.064107        18.698039        15.809532        16.613230   \n",
       "132        16.513151        18.753454        16.319948        16.776418   \n",
       "179        17.308548        18.667955        15.786658        16.111774   \n",
       "258        16.551752        18.715583        16.050815        17.181970   \n",
       "..               ...              ...              ...              ...   \n",
       "82         17.029071        18.415530        16.069512        17.105799   \n",
       "378        17.092400        18.839794        16.161789        17.072886   \n",
       "344        17.073518        18.193675        15.092689        16.983539   \n",
       "50         17.176000        20.383370        15.860547        16.679588   \n",
       "66         17.079391        19.125642        16.099524        17.068377   \n",
       "\n",
       "     ENSG00000005844  ENSG00000006327  ...  ENSG00000278910  ENSG00000280924  \\\n",
       "318        15.244971        20.196295  ...        11.962227        13.237309   \n",
       "317        15.892170        19.542097  ...         0.000000        11.723755   \n",
       "132        15.494267        19.303977  ...         0.000000        13.746728   \n",
       "179        16.296577        20.210354  ...         0.000000        13.519727   \n",
       "258        13.915716        18.051995  ...         0.000000        12.874540   \n",
       "..               ...              ...  ...              ...              ...   \n",
       "82         15.877429        19.831597  ...        11.912352        11.394259   \n",
       "378        16.660077        18.781345  ...        11.641512        10.708630   \n",
       "344        15.178758        21.206392  ...        13.597188        12.146249   \n",
       "50         14.489921        18.807122  ...        10.363710        12.166602   \n",
       "66         15.542753        18.450254  ...        10.832585        10.899256   \n",
       "\n",
       "     ENSG00000280997  ENSG00000281183  ENSG00000281189  ENSG00000281202  \\\n",
       "318         8.099240        15.439994        12.557625         0.000000   \n",
       "317        10.902820        15.902137        11.159664         0.000000   \n",
       "132         8.880671        13.426548        14.626484         0.000000   \n",
       "179         0.000000        15.516455        12.852409         7.879561   \n",
       "258         9.264021        15.442020        13.462183         0.000000   \n",
       "..               ...              ...              ...              ...   \n",
       "82          7.374729        15.455789        12.198967         7.031628   \n",
       "378        11.487912        14.583587        13.082237         0.000000   \n",
       "344         0.000000        15.329461         9.124790         0.000000   \n",
       "50          0.000000        14.522243        13.625953         9.794749   \n",
       "66          9.872328        14.685311        10.865493        13.584348   \n",
       "\n",
       "     ENSG00000281406  ENSG00000281450  neoplasm_histologic_grade  \\\n",
       "318        14.470708         0.000000                         G1   \n",
       "317        13.233482         8.801656                         G1   \n",
       "132        16.505431         0.000000                         G1   \n",
       "179        16.408713         8.441310                         G1   \n",
       "258        14.359035         0.000000                         G1   \n",
       "..               ...              ...                        ...   \n",
       "82         13.265510        10.392719                         GX   \n",
       "378        15.675195        10.314506                         GX   \n",
       "344        14.680185        10.784776                         GX   \n",
       "50         14.882827         0.000000                         GX   \n",
       "66         14.134886         8.508074                         GX   \n",
       "\n",
       "     submitter_id.samples  \n",
       "318      TCGA-KB-A93H-01A  \n",
       "317      TCGA-KB-A93G-01A  \n",
       "132      TCGA-CD-5800-01A  \n",
       "179      TCGA-CG-5719-01A  \n",
       "258      TCGA-HU-8244-01A  \n",
       "..                    ...  \n",
       "82       TCGA-BR-8297-01A  \n",
       "378      TCGA-VQ-A91S-01A  \n",
       "344      TCGA-SW-A7EA-01A  \n",
       "50       TCGA-BR-7197-01A  \n",
       "66       TCGA-BR-7957-01A  \n",
       "\n",
       "[407 rows x 1443 columns]"
      ]
     },
     "execution_count": 15,
     "metadata": {},
     "output_type": "execute_result"
    }
   ],
   "source": [
    "# 전체 데이터프레임으로부터 위 리스트의 요소가 컬럼이름인 데이터를 제거한 데이터프레임 만들기\n",
    "df_All_features_removed = df_All.drop(labels=ENSG_IDs_to_remove, axis=1)\n",
    "df_All_features_removed"
   ]
  },
  {
   "cell_type": "code",
   "execution_count": 16,
   "metadata": {},
   "outputs": [],
   "source": [
    "# 최종 데이터프레임을 pickle 파일로 저장\n",
    "df_All_features_removed.to_pickle('./xy_STAD-related-only3_exam_features_removed.pkl')"
   ]
  },
  {
   "cell_type": "code",
   "execution_count": null,
   "metadata": {},
   "outputs": [],
   "source": []
  },
  {
   "cell_type": "markdown",
   "metadata": {},
   "source": [
    "# Data Preprocessing for multi-class Classification in the domain of TCGA-STAD (The Cancer Genome Atlas Stomach Adenocarcinoma)"
   ]
  },
  {
   "cell_type": "markdown",
   "metadata": {},
   "source": [
    "## 1. Making the final numpy dataset of XY values for inserting into model"
   ]
  },
  {
   "cell_type": "markdown",
   "metadata": {},
   "source": [
    "### 1-1. Trim & Sort"
   ]
  },
  {
   "cell_type": "code",
   "execution_count": 17,
   "metadata": {},
   "outputs": [],
   "source": [
    "# # xy_STAD-related-only3_exam_features_removed.pkl 파일을 처음으로 복구하는 코드 (만일 대비)\n",
    "# df_init = pd.read_pickle('xy_STAD-related-only3_exam.pkl')\n",
    "# df_init.to_pickle('./xy_STAD-related-only3_exam_features_removed.pkl')\n",
    "# df_init.shape"
   ]
  },
  {
   "cell_type": "markdown",
   "metadata": {},
   "source": [
    "### 1-2. Extracting dataset X & Y"
   ]
  },
  {
   "cell_type": "code",
   "execution_count": 18,
   "metadata": {},
   "outputs": [
    {
     "name": "stdout",
     "output_type": "stream",
     "text": [
      "G1:   10\n",
      "G2:  150\n",
      "G3:  238\n",
      "GX:    9\n"
     ]
    }
   ],
   "source": [
    "# dfs2 = pd.read_pickle('xy_STAD-related-only3_exam.pkl')\n",
    "dfs2 = pd.read_pickle('xy_STAD-related-only3_exam_features_removed.pkl')\n",
    "df_X = dfs2.drop(labels=['neoplasm_histologic_grade','submitter_id.samples'], axis=1)\n",
    "df_Y = dfs2[['neoplasm_histologic_grade']]\n",
    "print('G1:  ', len(df_Y[df_Y['neoplasm_histologic_grade']=='G1']))\n",
    "print('G2: ', len(df_Y[df_Y['neoplasm_histologic_grade']=='G2']))\n",
    "print('G3: ', len(df_Y[df_Y['neoplasm_histologic_grade']=='G3']))\n",
    "print('GX:   ', len(df_Y[df_Y['neoplasm_histologic_grade']=='GX']))\n",
    "# NLL Loss 계산을 위해 label 차원은 2차원 행렬이 아닌 평범한 1차원 벡터가 되게 바꿈 \n",
    "df_Y = dfs2['neoplasm_histologic_grade']\n"
   ]
  },
  {
   "cell_type": "markdown",
   "metadata": {},
   "source": [
    "### 1-3. Converting data for deep learning model "
   ]
  },
  {
   "cell_type": "code",
   "execution_count": 19,
   "metadata": {},
   "outputs": [
    {
     "data": {
      "text/plain": [
       "((407, 1441), dtype('float64'))"
      ]
     },
     "execution_count": 19,
     "metadata": {},
     "output_type": "execute_result"
    }
   ],
   "source": [
    "# X 데이터 : pandas dataframe 형식에서 numpy array 형식으로 변환\n",
    "X = df_X.to_numpy(dtype='float64')\n",
    "X.shape, X[0].dtype"
   ]
  },
  {
   "cell_type": "code",
   "execution_count": 20,
   "metadata": {},
   "outputs": [
    {
     "data": {
      "text/plain": [
       "((407,), dtype('int8'))"
      ]
     },
     "execution_count": 20,
     "metadata": {},
     "output_type": "execute_result"
    }
   ],
   "source": [
    "# Y 데이터 : 문자에서 정수로 변환 G1->1, G2->2, G3->3, GX->0\n",
    "Y = df_Y.replace({'G1':1, 'G2':2, 'G3':3, 'GX':0}).to_numpy(dtype='int8')\n",
    "Y.shape, Y[0].dtype"
   ]
  },
  {
   "cell_type": "markdown",
   "metadata": {},
   "source": [
    "### 1-4. Min-Max Normalization for richer transformer embedding"
   ]
  },
  {
   "cell_type": "code",
   "execution_count": 21,
   "metadata": {},
   "outputs": [
    {
     "data": {
      "text/plain": [
       "array([[206.81746899, 172.09803197, 195.58499015, ...,   0.        ,\n",
       "        148.0143489 ,   0.        ],\n",
       "       [192.49203866, 124.22168367, 183.73903337, ...,   0.        ,\n",
       "        135.35931518,  90.02817139],\n",
       "       [202.60430677, 174.38158934, 199.61163048, ...,   0.        ,\n",
       "        168.82660949,   0.        ],\n",
       "       ...,\n",
       "       [200.79967061, 117.80718051, 191.94147886, ...,   0.        ,\n",
       "        150.15699621, 110.31260635],\n",
       "       [197.7331684 , 180.79146538, 187.89875863, ..., 100.18607087,\n",
       "        152.22972238,   0.        ],\n",
       "       [198.63190202, 183.38124043, 183.25383364, ..., 138.94816846,\n",
       "        144.5793707 ,  87.02525398]])"
      ]
     },
     "execution_count": 21,
     "metadata": {},
     "output_type": "execute_result"
    }
   ],
   "source": [
    "def MinMax(X):\n",
    "    X_norm = (X-np.min(X)) / (np.max(X)-np.min(X))\n",
    "    return X_norm\n",
    "X_norm = MinMax(X) * 319\n",
    "X_norm"
   ]
  },
  {
   "cell_type": "markdown",
   "metadata": {},
   "source": [
    "### 1-5. Save dataset"
   ]
  },
  {
   "cell_type": "code",
   "execution_count": 22,
   "metadata": {},
   "outputs": [],
   "source": [
    "# 2. 전체 X, Y 데이터셋 저장\n",
    "hf = h5py.File('STAD_Dataset3_ALL_exam.h5', 'w')\n",
    "hf.create_dataset('X', data=X_norm)\n",
    "hf.create_dataset('Y', data=Y)\n",
    "hf.close()"
   ]
  },
  {
   "cell_type": "markdown",
   "metadata": {},
   "source": [
    "### 1-6. Dataset Validation Check"
   ]
  },
  {
   "cell_type": "code",
   "execution_count": 23,
   "metadata": {},
   "outputs": [
    {
     "name": "stdout",
     "output_type": "stream",
     "text": [
      "X.shape : (407, 1441) float64\n",
      "Y.shape : (407,) int8\n"
     ]
    }
   ],
   "source": [
    "hf = h5py.File('STAD_Dataset3_ALL_exam.h5', 'r')\n",
    "# hf.keys()\n",
    "X = np.array(hf.get('X'))\n",
    "Y = np.array(hf.get('Y'))\n",
    "\n",
    "print('X.shape :', X.shape, X[0].dtype)\n",
    "print('Y.shape :', Y.shape, Y[0].dtype)\n",
    "\n",
    "hf.close()"
   ]
  },
  {
   "cell_type": "code",
   "execution_count": null,
   "metadata": {},
   "outputs": [],
   "source": []
  }
 ],
 "metadata": {
  "kernelspec": {
   "display_name": "tc3",
   "language": "python",
   "name": "python3"
  },
  "language_info": {
   "codemirror_mode": {
    "name": "ipython",
    "version": 3
   },
   "file_extension": ".py",
   "mimetype": "text/x-python",
   "name": "python",
   "nbconvert_exporter": "python",
   "pygments_lexer": "ipython3",
   "version": "3.8.20"
  }
 },
 "nbformat": 4,
 "nbformat_minor": 2
}
