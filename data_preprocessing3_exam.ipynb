{
 "cells": [
  {
   "cell_type": "markdown",
   "metadata": {},
   "source": [
    "# Data Preprocessing for multi-class Classification in the domain of TCGA-STAD (The Cancer Genome Atlas Stomach Adenocarcinoma)"
   ]
  },
  {
   "cell_type": "code",
   "execution_count": 1,
   "metadata": {},
   "outputs": [],
   "source": [
    "import pandas as pd\n",
    "import numpy as np\n",
    "import h5py"
   ]
  },
  {
   "cell_type": "code",
   "execution_count": null,
   "metadata": {},
   "outputs": [],
   "source": [
    "import pandas as pd\n",
    "import numpy as np\n",
    "import h5py"
   ]
  },
  {
   "cell_type": "markdown",
   "metadata": {},
   "source": [
    "## 1. Making the final numpy dataset of XY values for inserting into model"
   ]
  },
  {
   "cell_type": "markdown",
   "metadata": {},
   "source": [
    "### 1-1. Trim & Sort"
   ]
  },
  {
   "cell_type": "code",
   "execution_count": 2,
   "metadata": {},
   "outputs": [],
   "source": [
    "# # xy_STAD-related-only3_exam_features_removed.pkl 파일을 처음으로 복구하는 코드 (만일 대비)\n",
    "# df_init = pd.read_pickle('xy_STAD-related-only3_exam.pkl')\n",
    "# df_init.to_pickle('./xy_STAD-related-only3_exam_features_removed.pkl')\n",
    "# df_init.shape"
   ]
  },
  {
   "cell_type": "markdown",
   "metadata": {},
   "source": [
    "### 1-2. Extracting dataset X & Y"
   ]
  },
  {
   "cell_type": "code",
   "execution_count": 3,
   "metadata": {},
   "outputs": [
    {
     "name": "stdout",
     "output_type": "stream",
     "text": [
      "G1:   10\n",
      "G2:  150\n",
      "G3:  238\n",
      "GX:    9\n"
     ]
    }
   ],
   "source": [
    "# dfs2 = pd.read_pickle('xy_STAD-related-only3_exam.pkl')\n",
    "dfs2 = pd.read_pickle('xy_STAD-related-only3_exam_features_removed.pkl')\n",
    "df_X = dfs2.drop(labels=['neoplasm_histologic_grade','submitter_id.samples'], axis=1)\n",
    "df_Y = dfs2[['neoplasm_histologic_grade']]\n",
    "print('G1:  ', len(df_Y[df_Y['neoplasm_histologic_grade']=='G1']))\n",
    "print('G2: ', len(df_Y[df_Y['neoplasm_histologic_grade']=='G2']))\n",
    "print('G3: ', len(df_Y[df_Y['neoplasm_histologic_grade']=='G3']))\n",
    "print('GX:   ', len(df_Y[df_Y['neoplasm_histologic_grade']=='GX']))\n",
    "# NLL Loss 계산을 위해 label 차원은 2차원 행렬이 아닌 평범한 1차원 벡터가 되게 바꿈 \n",
    "df_Y = dfs2['neoplasm_histologic_grade']\n"
   ]
  },
  {
   "cell_type": "markdown",
   "metadata": {},
   "source": [
    "### 1-3. Converting data for deep learning model "
   ]
  },
  {
   "cell_type": "code",
   "execution_count": 4,
   "metadata": {},
   "outputs": [
    {
     "data": {
      "text/plain": [
       "((407, 1501), dtype('float64'))"
      ]
     },
     "execution_count": 4,
     "metadata": {},
     "output_type": "execute_result"
    }
   ],
   "source": [
    "# X 데이터 : pandas dataframe 형식에서 numpy array 형식으로 변환\n",
    "X = df_X.to_numpy(dtype='float64')\n",
    "X.shape, X[0].dtype"
   ]
  },
  {
   "cell_type": "code",
   "execution_count": 5,
   "metadata": {},
   "outputs": [
    {
     "data": {
      "text/plain": [
       "((407,), dtype('int8'))"
      ]
     },
     "execution_count": 5,
     "metadata": {},
     "output_type": "execute_result"
    }
   ],
   "source": [
    "# Y 데이터 : 문자에서 정수로 변환 G1->1, G2->2, G3->3, GX->0\n",
    "Y = df_Y.replace({'G1':1, 'G2':2, 'G3':3, 'GX':0}).to_numpy(dtype='int8')\n",
    "Y.shape, Y[0].dtype"
   ]
  },
  {
   "cell_type": "markdown",
   "metadata": {},
   "source": [
    "### 1-4. Min-Max Normalization for richer transformer embedding"
   ]
  },
  {
   "cell_type": "code",
   "execution_count": 6,
   "metadata": {},
   "outputs": [],
   "source": [
    "def MinMax(X):\n",
    "    X_norm = (X-np.min(X)) / (np.max(X)-np.min(X))\n",
    "    return X_norm"
   ]
  },
  {
   "cell_type": "code",
   "execution_count": 7,
   "metadata": {},
   "outputs": [],
   "source": [
    "X_norm = MinMax(X) * 319"
   ]
  },
  {
   "cell_type": "markdown",
   "metadata": {},
   "source": [
    "### 1-5. Save dataset"
   ]
  },
  {
   "cell_type": "code",
   "execution_count": 8,
   "metadata": {},
   "outputs": [],
   "source": [
    "# 2. 전체 X, Y 데이터셋 \n",
    "hf = h5py.File('STAD_Dataset3_ALL_exam.h5', 'w')\n",
    "hf.create_dataset('X', data=X_norm)\n",
    "hf.create_dataset('Y', data=Y)\n",
    "hf.close()"
   ]
  },
  {
   "cell_type": "markdown",
   "metadata": {},
   "source": [
    "### 1-6. Dataset Validation Check"
   ]
  },
  {
   "cell_type": "code",
   "execution_count": 9,
   "metadata": {},
   "outputs": [
    {
     "name": "stdout",
     "output_type": "stream",
     "text": [
      "X.shape : (407, 1501) float64\n",
      "Y.shape : (407,) int8\n"
     ]
    }
   ],
   "source": [
    "hf = h5py.File('STAD_Dataset3_ALL_exam.h5', 'r')\n",
    "# hf.keys()\n",
    "X = np.array(hf.get('X'))\n",
    "Y = np.array(hf.get('Y'))\n",
    "\n",
    "print('X.shape :', X.shape, X[0].dtype)\n",
    "print('Y.shape :', Y.shape, Y[0].dtype)\n",
    "\n",
    "hf.close()"
   ]
  },
  {
   "cell_type": "code",
   "execution_count": null,
   "metadata": {},
   "outputs": [],
   "source": []
  }
 ],
 "metadata": {
  "kernelspec": {
   "display_name": "tc3",
   "language": "python",
   "name": "python3"
  },
  "language_info": {
   "codemirror_mode": {
    "name": "ipython",
    "version": 3
   },
   "file_extension": ".py",
   "mimetype": "text/x-python",
   "name": "python",
   "nbconvert_exporter": "python",
   "pygments_lexer": "ipython3",
   "version": "3.8.20"
  }
 },
 "nbformat": 4,
 "nbformat_minor": 2
}
